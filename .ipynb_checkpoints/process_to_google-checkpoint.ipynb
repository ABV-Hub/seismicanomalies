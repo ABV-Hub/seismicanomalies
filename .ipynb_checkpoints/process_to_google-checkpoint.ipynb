{
 "cells": [
  {
   "cell_type": "code",
   "execution_count": 5,
   "metadata": {},
   "outputs": [],
   "source": [
    "import imageio\n",
    "import glob\n",
    "import pandas as pd\n",
    "import seaborn as sns\n",
    "import numpy as np"
   ]
  },
  {
   "cell_type": "markdown",
   "metadata": {},
   "source": [
    "# Load Image files from disk"
   ]
  },
  {
   "cell_type": "code",
   "execution_count": 61,
   "metadata": {},
   "outputs": [],
   "source": [
    "# different features\n",
    "flat_files = glob.glob(\"screenshots\\\\flatlayers\\\\bw\\\\*.png\")\n",
    "salt_files = glob.glob(\"screenshots\\\\salt\\\\bw\\\\*.png\")\n",
    "gasc_files = glob.glob(\"screenshots\\\\gas_chimney\\\\bw\\\\*.png\")\n",
    "nois_files = glob.glob(\"screenshots\\\\noise\\\\bw_sub\\\\*.png\")\n",
    "\n",
    "\n",
    "# images in\n",
    "flat_im = [imageio.imread(im) for im in flat_files]\n",
    "salt_im = [imageio.imread(im) for im in salt_files]\n",
    "gasc_im = [imageio.imread(im) for im in gasc_files]\n",
    "nois_im = [imageio.imread(im) for im in nois_files]"
   ]
  },
  {
   "cell_type": "code",
   "execution_count": 67,
   "metadata": {},
   "outputs": [],
   "source": [
    "flat_train, flat_test = train_test_split(flat_files, test_size=0.2, random_state=42)\n",
    "salt_train, salt_test = train_test_split(salt_files, test_size=0.2, random_state=42)\n",
    "gasc_train, gasc_test = train_test_split(gasc_files, test_size=0.2, random_state=42)\n",
    "nois_train, nois_test = train_test_split(nois_files, test_size=0.2, random_state=42)"
   ]
  },
  {
   "cell_type": "code",
   "execution_count": 70,
   "metadata": {},
   "outputs": [],
   "source": [
    "import shutil"
   ]
  },
  {
   "cell_type": "code",
   "execution_count": 80,
   "metadata": {},
   "outputs": [
    {
     "name": "stdout",
     "output_type": "stream",
     "text": [
      "0033bw.png\n",
      "0069bw.png\n",
      "1014bw.png\n",
      "1011bw.png\n",
      "0024bw.png\n",
      "0046bw.png\n",
      "1010bw.png\n",
      "0080bw.png\n",
      "0017bw.png\n",
      "0032bw.png\n",
      "0107bw.png\n",
      "0010bw.png\n",
      "0035bw.png\n",
      "0064bw.png\n",
      "0067bw.png\n",
      "0030bw.png\n",
      "0044bw.png\n",
      "0006bw.png\n",
      "0057bw.png\n",
      "0066bw.png\n",
      "0041bw.png\n",
      "0037bw.png\n",
      "0018bw.png\n",
      "0104bw.png\n",
      "0036bw.png\n",
      "0058bw.png\n",
      "0008bw.png\n",
      "0045bw.png\n",
      "0070bw.png\n",
      "0087bw.png\n",
      "0029bw.png\n",
      "0021bw.png\n",
      "0092bw.png\n",
      "0097bw.png\n",
      "0027bw.png\n",
      "0009bw.png\n",
      "0086bw.png\n",
      "0051bw.png\n",
      "0015bw.png\n",
      "0081bw.png\n",
      "0026bw.png\n",
      "0004bw.png\n",
      "0019bw.png\n",
      "0040bw.png\n",
      "0095bw.png\n",
      "0007bw.png\n",
      "0075bw.png\n",
      "0099bw.png\n",
      "0091bw.png\n",
      "0056bw.png\n",
      "0052bw.png\n",
      "0078bw.png\n",
      "0048bw.png\n",
      "0079bw.png\n",
      "0063bw.png\n",
      "1013bw.png\n",
      "0090bw.png\n",
      "0043bw.png\n",
      "0060bw.png\n",
      "0050bw.png\n",
      "0098bw.png\n",
      "0059bw.png\n",
      "0077bw.png\n",
      "0034bw.png\n",
      "1012bw.png\n",
      "0061bw.png\n",
      "0065bw.png\n",
      "0096bw.png\n",
      "0039bw.png\n",
      "0031bw.png\n",
      "0103bw.png\n",
      "0002bw.png\n",
      "0054bw.png\n",
      "0023bw.png\n",
      "0003bw.png\n",
      "0025bw.png\n",
      "0102bw.png\n",
      "0089bw.png\n",
      "0108bw.png\n",
      "0076bw.png\n",
      "0088bw.png\n",
      "0084bw.png\n",
      "1016bw.png\n",
      "0022bw.png\n",
      "0062bw.png\n",
      "0073bw.png\n",
      "0109bw.png\n",
      "0016bw.png\n",
      "0094bw.png\n",
      "0053bw.png\n",
      "0105bw.png\n"
     ]
    }
   ],
   "source": [
    "for i, file in enumerate(flat_train):\n",
    "    name = file.split('\\\\')[-1]\n",
    "    shutil.copyfile(file, f\"data\\\\google\\\\flat\\\\train\\\\flat_{name}\")\n",
    "\n",
    "for i, file in enumerate(flat_test):\n",
    "    name = file.split('\\\\')[-1]\n",
    "    shutil.copyfile(file, f\"data\\\\google\\\\flat\\\\test\\\\flat_{name}\")\n",
    "    \n"
   ]
  },
  {
   "cell_type": "code",
   "execution_count": null,
   "metadata": {},
   "outputs": [],
   "source": []
  }
 ],
 "metadata": {
  "kernelspec": {
   "display_name": "Python 3",
   "language": "python",
   "name": "python3"
  },
  "language_info": {
   "codemirror_mode": {
    "name": "ipython",
    "version": 3
   },
   "file_extension": ".py",
   "mimetype": "text/x-python",
   "name": "python",
   "nbconvert_exporter": "python",
   "pygments_lexer": "ipython3",
   "version": "3.6.7"
  }
 },
 "nbformat": 4,
 "nbformat_minor": 2
}
