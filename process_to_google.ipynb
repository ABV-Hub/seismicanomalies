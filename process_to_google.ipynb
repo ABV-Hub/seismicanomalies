{
 "cells": [
  {
   "cell_type": "code",
   "execution_count": 5,
   "metadata": {},
   "outputs": [],
   "source": [
    "import imageio\n",
    "import glob\n",
    "import pandas as pd\n",
    "import seaborn as sns\n",
    "import numpy as np"
   ]
  },
  {
   "cell_type": "markdown",
   "metadata": {},
   "source": [
    "# Load Image files from disk"
   ]
  },
  {
   "cell_type": "code",
   "execution_count": 61,
   "metadata": {},
   "outputs": [],
   "source": [
    "# different features\n",
    "flat_files = glob.glob(\"screenshots\\\\flatlayers\\\\bw\\\\*.png\")\n",
    "salt_files = glob.glob(\"screenshots\\\\salt\\\\bw\\\\*.png\")\n",
    "gasc_files = glob.glob(\"screenshots\\\\gas_chimney\\\\bw\\\\*.png\")\n",
    "nois_files = glob.glob(\"screenshots\\\\noise\\\\bw_sub\\\\*.png\")\n",
    "\n",
    "\n",
    "# images in\n",
    "flat_im = [imageio.imread(im) for im in flat_files]\n",
    "salt_im = [imageio.imread(im) for im in salt_files]\n",
    "gasc_im = [imageio.imread(im) for im in gasc_files]\n",
    "nois_im = [imageio.imread(im) for im in nois_files]"
   ]
  },
  {
   "cell_type": "code",
   "execution_count": 67,
   "metadata": {},
   "outputs": [],
   "source": [
    "flat_train, flat_test = train_test_split(flat_files, test_size=0.2, random_state=42)\n",
    "salt_train, salt_test = train_test_split(salt_files, test_size=0.2, random_state=42)\n",
    "gasc_train, gasc_test = train_test_split(gasc_files, test_size=0.2, random_state=42)\n",
    "nois_train, nois_test = train_test_split(nois_files, test_size=0.2, random_state=42)"
   ]
  },
  {
   "cell_type": "code",
   "execution_count": 70,
   "metadata": {},
   "outputs": [],
   "source": [
    "import shutil"
   ]
  },
  {
   "cell_type": "code",
   "execution_count": 83,
   "metadata": {},
   "outputs": [],
   "source": [
    "def copygoogle(x_train, x_test, categ):\n",
    "    for i, file in enumerate(x_train):\n",
    "        name = file.split('\\\\')[-1]\n",
    "        shutil.copyfile(file, f\"data\\\\google\\\\train\\\\{categ}_{name}\")\n",
    "\n",
    "    for i, file in enumerate(x_test):\n",
    "        name = file.split('\\\\')[-1]\n",
    "        shutil.copyfile(file, f\"data\\\\google\\\\test\\\\{categ}_{name}\")\n",
    "        \n",
    "copygoogle(flat_train, flat_test, 'flat')\n",
    "copygoogle(salt_train, salt_test, 'salt')\n",
    "copygoogle(gasc_train, gasc_test, 'gasc')\n",
    "copygoogle(nois_train, nois_test, 'nois')\n",
    "\n",
    "\n",
    "    \n"
   ]
  },
  {
   "cell_type": "code",
   "execution_count": null,
   "metadata": {},
   "outputs": [],
   "source": []
  }
 ],
 "metadata": {
  "kernelspec": {
   "display_name": "Python 3",
   "language": "python",
   "name": "python3"
  },
  "language_info": {
   "codemirror_mode": {
    "name": "ipython",
    "version": 3
   },
   "file_extension": ".py",
   "mimetype": "text/x-python",
   "name": "python",
   "nbconvert_exporter": "python",
   "pygments_lexer": "ipython3",
   "version": "3.6.7"
  }
 },
 "nbformat": 4,
 "nbformat_minor": 2
}
